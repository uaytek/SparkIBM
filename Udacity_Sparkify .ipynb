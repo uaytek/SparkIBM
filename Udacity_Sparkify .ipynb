{
 "cells": [
  {
   "cell_type": "markdown",
   "metadata": {},
   "source": [
    "# Sparkify Project Workspace\n",
    "This workspace contains a tiny subset (128MB) of the full dataset available (12GB). Feel free to use this workspace to build your project, or to explore a smaller subset with Spark before deploying your cluster on the cloud. Instructions for setting up your Spark cluster is included in the last lesson of the Extracurricular Spark Course content.\n",
    "\n",
    "You can follow the steps below to guide your data analysis and model building portion of this project."
   ]
  },
  {
   "cell_type": "code",
   "execution_count": 1,
   "metadata": {},
   "outputs": [],
   "source": [
    "# import libraries\n",
    "\n",
    "# Starter code\n",
    "from pyspark.sql import SparkSession, Window\n",
    "\n",
    "from pyspark.sql.types import StringType\n",
    "from pyspark.sql.types import IntegerType\n",
    "from pyspark.sql.functions import desc, count, col, asc, udf, isnan, isnull,collect_list, when, hour, dayofmonth, month, year, to_timestamp\n",
    "from pyspark.sql.functions import sum as Fsum\n",
    "\n",
    "from pyspark.ml.feature import VectorAssembler, StandardScaler, IndexToString, StringIndexer, VectorIndexer\n",
    "\n",
    "from pyspark.ml.classification import RandomForestClassifier\n",
    "from pyspark.mllib.util import MLUtils\n",
    "\n",
    "from pyspark.mllib.evaluation import BinaryClassificationMetrics,  MulticlassMetrics\n",
    "from pyspark.ml.evaluation import MulticlassClassificationEvaluator\n",
    "from pyspark.ml.tuning import CrossValidator, ParamGridBuilder\n",
    "from pyspark.ml import Pipeline\n",
    "\n",
    "from pyspark.mllib.util import MLUtils\n",
    "\n",
    "import datetime\n",
    "\n",
    "import numpy as np\n",
    "import pandas as pd\n",
    "\n",
    "import matplotlib.pyplot as plt"
   ]
  },
  {
   "cell_type": "code",
   "execution_count": 2,
   "metadata": {},
   "outputs": [],
   "source": [
    "# create a Spark session\n",
    "spark = SparkSession \\\n",
    "    .builder \\\n",
    "    .appName(\"Sparkify\") \\\n",
    "    .getOrCreate()\n"
   ]
  },
  {
   "cell_type": "markdown",
   "metadata": {},
   "source": [
    "# Load and Clean Dataset\n",
    "In this workspace, the mini-dataset file is `mini_sparkify_event_data.json`. Load and clean the dataset, checking for invalid or missing data - for example, records without userids or sessionids. "
   ]
  },
  {
   "cell_type": "code",
   "execution_count": 3,
   "metadata": {},
   "outputs": [],
   "source": [
    "# Read in full sparkify dataset\n",
    "def GetData(event_data):\n",
    "\n",
    "    df = spark.read.json(event_data)\n",
    "    \n",
    "    return df\n"
   ]
  },
  {
   "cell_type": "code",
   "execution_count": 4,
   "metadata": {},
   "outputs": [
    {
     "data": {
      "text/plain": [
       "Row(artist='Martha Tilston', auth='Logged In', firstName='Colin', gender='M', itemInSession=50, lastName='Freeman', length=277.89016, level='paid', location='Bakersfield, CA', method='PUT', page='NextSong', registration=1538173362000, sessionId=29, song='Rockpools', status=200, ts=1538352117000, userAgent='Mozilla/5.0 (Windows NT 6.1; WOW64; rv:31.0) Gecko/20100101 Firefox/31.0', userId='30')"
      ]
     },
     "execution_count": 4,
     "metadata": {},
     "output_type": "execute_result"
    }
   ],
   "source": [
    "df = GetData(\"mini_sparkify_event_data.json\") \n",
    "\n",
    "df.head()"
   ]
  },
  {
   "cell_type": "code",
   "execution_count": 5,
   "metadata": {},
   "outputs": [
    {
     "name": "stdout",
     "output_type": "stream",
     "text": [
      "root\n",
      " |-- artist: string (nullable = true)\n",
      " |-- auth: string (nullable = true)\n",
      " |-- firstName: string (nullable = true)\n",
      " |-- gender: string (nullable = true)\n",
      " |-- itemInSession: long (nullable = true)\n",
      " |-- lastName: string (nullable = true)\n",
      " |-- length: double (nullable = true)\n",
      " |-- level: string (nullable = true)\n",
      " |-- location: string (nullable = true)\n",
      " |-- method: string (nullable = true)\n",
      " |-- page: string (nullable = true)\n",
      " |-- registration: long (nullable = true)\n",
      " |-- sessionId: long (nullable = true)\n",
      " |-- song: string (nullable = true)\n",
      " |-- status: long (nullable = true)\n",
      " |-- ts: long (nullable = true)\n",
      " |-- userAgent: string (nullable = true)\n",
      " |-- userId: string (nullable = true)\n",
      "\n"
     ]
    }
   ],
   "source": [
    "df.printSchema()"
   ]
  },
  {
   "cell_type": "code",
   "execution_count": 7,
   "metadata": {
    "scrolled": true
   },
   "outputs": [
    {
     "data": {
      "text/plain": [
       "286500"
      ]
     },
     "execution_count": 7,
     "metadata": {},
     "output_type": "execute_result"
    }
   ],
   "source": [
    "df.count()"
   ]
  },
  {
   "cell_type": "code",
   "execution_count": 8,
   "metadata": {},
   "outputs": [
    {
     "data": {
      "text/plain": [
       "226"
      ]
     },
     "execution_count": 8,
     "metadata": {},
     "output_type": "execute_result"
    }
   ],
   "source": [
    "df.select(\"userId\").dropDuplicates().count()"
   ]
  },
  {
   "cell_type": "code",
   "execution_count": 9,
   "metadata": {},
   "outputs": [
    {
     "data": {
      "text/plain": [
       "2354"
      ]
     },
     "execution_count": 9,
     "metadata": {},
     "output_type": "execute_result"
    }
   ],
   "source": [
    "df.select(\"sessionId\").dropDuplicates().count()"
   ]
  },
  {
   "cell_type": "markdown",
   "metadata": {},
   "source": [
    "There are 226 users created 2354 sessi"
   ]
  },
  {
   "cell_type": "code",
   "execution_count": 10,
   "metadata": {},
   "outputs": [
    {
     "name": "stdout",
     "output_type": "stream",
     "text": [
      "+--------------------+\n",
      "|                page|\n",
      "+--------------------+\n",
      "|               About|\n",
      "|          Add Friend|\n",
      "|     Add to Playlist|\n",
      "|              Cancel|\n",
      "|Cancellation Conf...|\n",
      "|           Downgrade|\n",
      "|               Error|\n",
      "|                Help|\n",
      "|                Home|\n",
      "|               Login|\n",
      "|              Logout|\n",
      "|            NextSong|\n",
      "|            Register|\n",
      "|         Roll Advert|\n",
      "|       Save Settings|\n",
      "|            Settings|\n",
      "|    Submit Downgrade|\n",
      "| Submit Registration|\n",
      "|      Submit Upgrade|\n",
      "|         Thumbs Down|\n",
      "|           Thumbs Up|\n",
      "|             Upgrade|\n",
      "+--------------------+\n",
      "\n"
     ]
    }
   ],
   "source": [
    "df.select(\"page\").dropDuplicates().sort(\"page\").show(40)"
   ]
  },
  {
   "cell_type": "code",
   "execution_count": 11,
   "metadata": {
    "scrolled": true
   },
   "outputs": [
    {
     "name": "stdout",
     "output_type": "stream",
     "text": [
      "+-------------------+\n",
      "|               page|\n",
      "+-------------------+\n",
      "|              About|\n",
      "|Submit Registration|\n",
      "|              Login|\n",
      "|           Register|\n",
      "|               Help|\n",
      "+-------------------+\n",
      "\n"
     ]
    }
   ],
   "source": [
    "#df.select('userId').distinct().show()\n",
    "df.select(\"page\").dropDuplicates().filter(col(\"userId\")=='').show(20)"
   ]
  },
  {
   "cell_type": "markdown",
   "metadata": {},
   "source": [
    "There are five pages who has no User Id"
   ]
  },
  {
   "cell_type": "code",
   "execution_count": 13,
   "metadata": {},
   "outputs": [
    {
     "name": "stdout",
     "output_type": "stream",
     "text": [
      "+-----+\n",
      "|level|\n",
      "+-----+\n",
      "| free|\n",
      "| paid|\n",
      "+-----+\n",
      "\n"
     ]
    }
   ],
   "source": [
    "df.select(\"level\").dropDuplicates().sort(\"level\").show(10) "
   ]
  },
  {
   "cell_type": "code",
   "execution_count": null,
   "metadata": {},
   "outputs": [],
   "source": [
    "df.select(\"userAgent\").dropDuplicates().sort(\"level\").show(10) "
   ]
  },
  {
   "cell_type": "code",
   "execution_count": 14,
   "metadata": {},
   "outputs": [
    {
     "name": "stdout",
     "output_type": "stream",
     "text": [
      "+------+----------+---------+------+-------------+--------+------+-----+--------+------+-----+------------+---------+----+------+-------------+---------+------+\n",
      "|artist|      auth|firstName|gender|itemInSession|lastName|length|level|location|method| page|registration|sessionId|song|status|           ts|userAgent|userId|\n",
      "+------+----------+---------+------+-------------+--------+------+-----+--------+------+-----+------------+---------+----+------+-------------+---------+------+\n",
      "|  null|Logged Out|     null|  null|          100|    null|  null| free|    null|   GET| Home|        null|        8|null|   200|1538355745000|     null|      |\n",
      "|  null|Logged Out|     null|  null|          101|    null|  null| free|    null|   GET| Help|        null|        8|null|   200|1538355807000|     null|      |\n",
      "|  null|Logged Out|     null|  null|          102|    null|  null| free|    null|   GET| Home|        null|        8|null|   200|1538355841000|     null|      |\n",
      "|  null|Logged Out|     null|  null|          103|    null|  null| free|    null|   PUT|Login|        null|        8|null|   307|1538355842000|     null|      |\n",
      "|  null|Logged Out|     null|  null|            2|    null|  null| free|    null|   GET| Home|        null|      240|null|   200|1538356678000|     null|      |\n",
      "|  null|Logged Out|     null|  null|            3|    null|  null| free|    null|   PUT|Login|        null|      240|null|   307|1538356679000|     null|      |\n",
      "|  null|Logged Out|     null|  null|            0|    null|  null| free|    null|   PUT|Login|        null|      100|null|   307|1538358102000|     null|      |\n",
      "|  null|Logged Out|     null|  null|            0|    null|  null| free|    null|   PUT|Login|        null|      241|null|   307|1538360117000|     null|      |\n",
      "|  null|Logged Out|     null|  null|           14|    null|  null| free|    null|   GET| Home|        null|      187|null|   200|1538361527000|     null|      |\n",
      "|  null|Logged Out|     null|  null|           15|    null|  null| free|    null|   PUT|Login|        null|      187|null|   307|1538361528000|     null|      |\n",
      "+------+----------+---------+------+-------------+--------+------+-----+--------+------+-----+------------+---------+----+------+-------------+---------+------+\n",
      "only showing top 10 rows\n",
      "\n"
     ]
    }
   ],
   "source": [
    "df_unregistered = df.where(df[\"userAgent\"].isNull())\n",
    "df_unregistered.show(10)"
   ]
  },
  {
   "cell_type": "code",
   "execution_count": 15,
   "metadata": {},
   "outputs": [
    {
     "data": {
      "text/plain": [
       "8346"
      ]
     },
     "execution_count": 15,
     "metadata": {},
     "output_type": "execute_result"
    }
   ],
   "source": [
    "df_unregistered.count()"
   ]
  },
  {
   "cell_type": "markdown",
   "metadata": {},
   "source": [
    "There are 8346 unregistered users that have almost no data. We should continue with registered user for further analysis."
   ]
  },
  {
   "cell_type": "code",
   "execution_count": 4,
   "metadata": {},
   "outputs": [],
   "source": [
    "def Clean_Data(df):\n",
    "    return df.where(df[\"userAgent\"].isNotNull())"
   ]
  },
  {
   "cell_type": "code",
   "execution_count": 5,
   "metadata": {},
   "outputs": [],
   "source": [
    "def Get_Hour(df):\n",
    "    \n",
    "    get_hour = udf(lambda x: datetime.datetime.fromtimestamp(x / 1000.0). hour)\n",
    "    return df.withColumn(\"hour\", get_hour(df.ts))"
   ]
  },
  {
   "cell_type": "code",
   "execution_count": 19,
   "metadata": {},
   "outputs": [],
   "source": [
    "user_log = Get_Hour(df)"
   ]
  },
  {
   "cell_type": "code",
   "execution_count": 20,
   "metadata": {},
   "outputs": [
    {
     "data": {
      "text/plain": [
       "[Row(artist='Martha Tilston', auth='Logged In', firstName='Colin', gender='M', itemInSession=50, lastName='Freeman', length=277.89016, level='paid', location='Bakersfield, CA', method='PUT', page='NextSong', registration=1538173362000, sessionId=29, song='Rockpools', status=200, ts=1538352117000, userAgent='Mozilla/5.0 (Windows NT 6.1; WOW64; rv:31.0) Gecko/20100101 Firefox/31.0', userId='30', hour='0'),\n",
       " Row(artist='Five Iron Frenzy', auth='Logged In', firstName='Micah', gender='M', itemInSession=79, lastName='Long', length=236.09424, level='free', location='Boston-Cambridge-Newton, MA-NH', method='PUT', page='NextSong', registration=1538331630000, sessionId=8, song='Canada', status=200, ts=1538352180000, userAgent='\"Mozilla/5.0 (Windows NT 6.1; WOW64) AppleWebKit/537.36 (KHTML, like Gecko) Chrome/37.0.2062.103 Safari/537.36\"', userId='9', hour='0'),\n",
       " Row(artist='Adam Lambert', auth='Logged In', firstName='Colin', gender='M', itemInSession=51, lastName='Freeman', length=282.8273, level='paid', location='Bakersfield, CA', method='PUT', page='NextSong', registration=1538173362000, sessionId=29, song='Time For Miracles', status=200, ts=1538352394000, userAgent='Mozilla/5.0 (Windows NT 6.1; WOW64; rv:31.0) Gecko/20100101 Firefox/31.0', userId='30', hour='0'),\n",
       " Row(artist='Enigma', auth='Logged In', firstName='Micah', gender='M', itemInSession=80, lastName='Long', length=262.71302, level='free', location='Boston-Cambridge-Newton, MA-NH', method='PUT', page='NextSong', registration=1538331630000, sessionId=8, song='Knocking On Forbidden Doors', status=200, ts=1538352416000, userAgent='\"Mozilla/5.0 (Windows NT 6.1; WOW64) AppleWebKit/537.36 (KHTML, like Gecko) Chrome/37.0.2062.103 Safari/537.36\"', userId='9', hour='0'),\n",
       " Row(artist='Daft Punk', auth='Logged In', firstName='Colin', gender='M', itemInSession=52, lastName='Freeman', length=223.60771, level='paid', location='Bakersfield, CA', method='PUT', page='NextSong', registration=1538173362000, sessionId=29, song='Harder Better Faster Stronger', status=200, ts=1538352676000, userAgent='Mozilla/5.0 (Windows NT 6.1; WOW64; rv:31.0) Gecko/20100101 Firefox/31.0', userId='30', hour='0')]"
      ]
     },
     "execution_count": 20,
     "metadata": {},
     "output_type": "execute_result"
    }
   ],
   "source": [
    "user_log.head(5)"
   ]
  },
  {
   "cell_type": "code",
   "execution_count": 21,
   "metadata": {},
   "outputs": [],
   "source": [
    "songs_in_hour = user_log.filter(user_log.page == \"NextSong\").groupby(user_log.hour).count().orderBy(user_log.hour.cast(\"float\"))"
   ]
  },
  {
   "cell_type": "code",
   "execution_count": 22,
   "metadata": {},
   "outputs": [],
   "source": [
    "songs_in_hour_pd = songs_in_hour.toPandas()\n",
    "songs_in_hour_pd.hour = pd.to_numeric(songs_in_hour_pd.hour)"
   ]
  },
  {
   "cell_type": "code",
   "execution_count": 23,
   "metadata": {
    "scrolled": true
   },
   "outputs": [
    {
     "data": {
      "image/png": "[encoded data removed]",
      "text/plain": [
       "<matplotlib.figure.Figure at 0x7fd0efa02b00>"
      ]
     },
     "metadata": {
      "needs_background": "light"
     },
     "output_type": "display_data"
    }
   ],
   "source": [
    "plt.scatter(songs_in_hour_pd[\"hour\"], songs_in_hour_pd[\"count\"])\n",
    "plt.xlim(-1, 24);\n",
    "plt.ylim(0, 1.2 * max(songs_in_hour_pd[\"count\"]))\n",
    "plt.xlabel(\"Hour\")\n",
    "plt.ylabel(\"Songs played\");"
   ]
  },
  {
   "cell_type": "markdown",
   "metadata": {},
   "source": [
    "Users are mostly listenning music in the afternoon. "
   ]
  },
  {
   "cell_type": "code",
   "execution_count": 19,
   "metadata": {},
   "outputs": [],
   "source": [
    "def drawpie(catcolumn,title):\n",
    "    cat_df = df.select('userId', catcolumn).dropDuplicates().groupBy(catcolumn).count().toPandas()\n",
    "    cat_df = cat_df.dropna()\n",
    "    plt.pie(cat_df[\"count\"], labels=cat_df[catcolumn])\n",
    "    plt.title(title)\n",
    "    plt.xlabel(\"\")\n",
    "    plt.ylabel(\"\");\n",
    "    plt.show()"
   ]
  },
  {
   "cell_type": "code",
   "execution_count": 20,
   "metadata": {
    "scrolled": true
   },
   "outputs": [
    {
     "data": {
      "image/png": "[encoded data removed]",
      "text/plain": [
       "<matplotlib.figure.Figure at 0x7efe00e33b38>"
      ]
     },
     "metadata": {},
     "output_type": "display_data"
    }
   ],
   "source": [
    "drawpie('gender',\"User gender ratio.\")"
   ]
  },
  {
   "cell_type": "code",
   "execution_count": 21,
   "metadata": {},
   "outputs": [
    {
     "data": {
      "image/png": "[encoded data removed]",
      "text/plain": [
       "<matplotlib.figure.Figure at 0x7efe00d89710>"
      ]
     },
     "metadata": {},
     "output_type": "display_data"
    }
   ],
   "source": [
    "drawpie('level',\"User level ratio.\")"
   ]
  },
  {
   "cell_type": "code",
   "execution_count": 22,
   "metadata": {},
   "outputs": [
    {
     "data": {
      "image/png": "[encoded data removed]",
      "text/plain": [
       "<matplotlib.figure.Figure at 0x7efe00d4fa20>"
      ]
     },
     "metadata": {},
     "output_type": "display_data"
    }
   ],
   "source": [
    "drawpie('method',\"User level ratio.\")"
   ]
  },
  {
   "cell_type": "markdown",
   "metadata": {},
   "source": [
    "Male users are slightly more than females"
   ]
  },
  {
   "cell_type": "code",
   "execution_count": 28,
   "metadata": {},
   "outputs": [
    {
     "name": "stdout",
     "output_type": "stream",
     "text": [
      "+--------------------+-----------+\n",
      "|              Artist|Artistcount|\n",
      "+--------------------+-----------+\n",
      "|       Kings Of Leon|       1841|\n",
      "|            Coldplay|       1813|\n",
      "|Florence + The Ma...|       1236|\n",
      "|       Dwight Yoakam|       1135|\n",
      "|            BjÃÂ¶rk|       1133|\n",
      "|      The Black Keys|       1125|\n",
      "|                Muse|       1090|\n",
      "|       Justin Bieber|       1044|\n",
      "|        Jack Johnson|       1007|\n",
      "|              Eminem|        953|\n",
      "|           Radiohead|        884|\n",
      "|     Alliance Ethnik|        876|\n",
      "|               Train|        854|\n",
      "|        Taylor Swift|        840|\n",
      "|         OneRepublic|        828|\n",
      "|         The Killers|        822|\n",
      "|         Linkin Park|        787|\n",
      "|         Evanescence|        781|\n",
      "|            Harmonia|        729|\n",
      "|       Guns N' Roses|        713|\n",
      "+--------------------+-----------+\n",
      "only showing top 20 rows\n",
      "\n"
     ]
    }
   ],
   "source": [
    "df.filter(df.page == 'NextSong').select('Artist').groupBy('Artist').agg({'Artist':'count'}) \\\n",
    "    .withColumnRenamed('count(Artist)', 'Artistcount') \\\n",
    "    .sort(desc('Artistcount')).show(20)"
   ]
  },
  {
   "cell_type": "markdown",
   "metadata": {},
   "source": [
    "The first three of artists are \"Kings of Leon\", \"Coldplay\", \"Florence and The Machine\". This result is consisted with the artists popularity."
   ]
  },
  {
   "cell_type": "markdown",
   "metadata": {},
   "source": [
    "### Total of Some Events by Users"
   ]
  },
  {
   "cell_type": "code",
   "execution_count": 49,
   "metadata": {},
   "outputs": [
    {
     "name": "stdout",
     "output_type": "stream",
     "text": [
      "+------+-----------+\n",
      "|userId|songs_total|\n",
      "+------+-----------+\n",
      "|    10|        673|\n",
      "|   100|       2682|\n",
      "|100001|        133|\n",
      "|100002|        195|\n",
      "|100003|         51|\n",
      "+------+-----------+\n",
      "only showing top 5 rows\n",
      "\n"
     ]
    }
   ],
   "source": [
    "#total songs played by users\n",
    "songs_total = df.where(col('song')!='null').groupby(\"userId\").agg(count(col('song')).alias('songs_total')).orderBy('userId')\n",
    "songs_total.show(5)"
   ]
  },
  {
   "cell_type": "code",
   "execution_count": 50,
   "metadata": {},
   "outputs": [
    {
     "name": "stdout",
     "output_type": "stream",
     "text": [
      "+------+--------------+\n",
      "|userId|thumbsup_Total|\n",
      "+------+--------------+\n",
      "|    10|            37|\n",
      "|   100|           148|\n",
      "|100001|             8|\n",
      "|100002|             5|\n",
      "|100003|             3|\n",
      "+------+--------------+\n",
      "only showing top 5 rows\n",
      "\n"
     ]
    }
   ],
   "source": [
    "#Total thumb ups by each users\n",
    "thumbsup_total = df.where((col('page')=='Thumbs Up') &(col('userId')!='null')).groupby(\"userId\").agg(count(col('page')).alias('thumbsup_Total')).orderBy('userId')\n",
    "thumbsup_total.show(5)"
   ]
  },
  {
   "cell_type": "code",
   "execution_count": 51,
   "metadata": {},
   "outputs": [
    {
     "name": "stdout",
     "output_type": "stream",
     "text": [
      "+------+----------------+\n",
      "|userId|thumbsdown_total|\n",
      "+------+----------------+\n",
      "|    10|               4|\n",
      "|   100|              27|\n",
      "|100001|               2|\n",
      "|100004|              11|\n",
      "|100005|               3|\n",
      "+------+----------------+\n",
      "only showing top 5 rows\n",
      "\n"
     ]
    }
   ],
   "source": [
    "#Total thumb downs by each users\n",
    "thumbsdown_total = df.where((col(\"page\")=='Thumbs Down')&(col('userId')!='null')).groupby(\"userId\").agg(count(col('page')).alias('thumbsdown_total')).orderBy('userId')\n",
    "thumbsdown_total.show(5)"
   ]
  },
  {
   "cell_type": "code",
   "execution_count": 52,
   "metadata": {},
   "outputs": [
    {
     "name": "stdout",
     "output_type": "stream",
     "text": [
      "+------+--------------+\n",
      "|userId|downgradeTotal|\n",
      "+------+--------------+\n",
      "|200002|             5|\n",
      "|    51|            23|\n",
      "|   124|            41|\n",
      "|    54|            39|\n",
      "|    15|            28|\n",
      "+------+--------------+\n",
      "only showing top 5 rows\n",
      "\n"
     ]
    }
   ],
   "source": [
    "#Total thumb up by each users\n",
    "downgrade_total = df.where((col(\"page\")=='Downgrade')).groupby(\"userId\").agg(count(col('page')).alias('downgradeTotal'))\n",
    "downgrade_total.show(5)"
   ]
  },
  {
   "cell_type": "code",
   "execution_count": 53,
   "metadata": {},
   "outputs": [
    {
     "name": "stdout",
     "output_type": "stream",
     "text": [
      "+------+-----------+\n",
      "|userId|error_count|\n",
      "+------+-----------+\n",
      "|      |          6|\n",
      "|   100|          3|\n",
      "|100001|          1|\n",
      "|100004|          2|\n",
      "|100013|          2|\n",
      "+------+-----------+\n",
      "only showing top 5 rows\n",
      "\n"
     ]
    }
   ],
   "source": [
    "#Total error count by each users\n",
    "error_count = df.where((col(\"page\")=='Error')&(col('userId')!='null')).groupby(\"userId\").agg(count(col('page')).alias('error_count')).orderBy('userId')\n",
    "error_count.show(5)"
   ]
  },
  {
   "cell_type": "markdown",
   "metadata": {},
   "source": [
    "# Exploratory Data Analysis\n",
    "When you're working with the full dataset, perform EDA by loading a small subset of the data and doing basic manipulations within Spark. In this workspace, you are already provided a small subset of data you can explore.\n",
    "\n",
    "### Define Churn\n",
    "\n",
    "Once you've done some preliminary analysis, create a column `Churn` to use as the label for your model. I suggest using the `Cancellation Confirmation` events to define your churn, which happen for both paid and free users. As a bonus task, you can also look into the `Downgrade` events.\n",
    "\n",
    "### Explore Data\n",
    "Once you've defined churn, perform some exploratory data analysis to observe the behavior for users who stayed vs users who churned. You can start by exploring aggregates on these two groups of users, observing how much of a specific action they experienced per a certain time unit or number of songs played."
   ]
  },
  {
   "cell_type": "code",
   "execution_count": 5,
   "metadata": {},
   "outputs": [],
   "source": [
    "# create column Churn and mark rows for the users, who cancelled subscription, with Churn = 1\n",
    "def fill_array(userId, cancelled_users):\n",
    "    if(userId in cancelled_users): return 1\n",
    "    else : return 0\n",
    "    \n",
    "def Define_Churn(df):\n",
    "    df_churn = df.groupby('userId').agg(collect_list('page').alias('pages'))\n",
    "    # define 1 as churned, 0 otherwise\n",
    "    churn_f = udf(lambda x: 1 if 'Cancel' in set(x) else 0)\n",
    "    df_churn = df_churn.withColumn(\"label\", churn_f(df_churn.pages)).drop('pages')\n",
    "    df_churn = df_churn.withColumn(\"label\", df_churn[\"label\"].cast(IntegerType()))\n",
    "    return df_churn"
   ]
  },
  {
   "cell_type": "markdown",
   "metadata": {},
   "source": [
    "# Feature Engineering\n",
    "Once you've familiarized yourself with the data, build out the features you find promising to train your model on. To work with the full dataset, you can follow the following steps.\n",
    "- Write a script to extract the necessary features from the smaller subset of data\n",
    "- Ensure that your script is scalable, using the best practices discussed in Lesson 3\n",
    "- Try your script on the full data set, debugging your script if necessary\n",
    "\n",
    "If you are working in the classroom workspace, you can just extract features based on the small subset of data contained here. Be sure to transfer over this work to the larger dataset when you work on your Spark cluster."
   ]
  },
  {
   "cell_type": "code",
   "execution_count": 6,
   "metadata": {},
   "outputs": [],
   "source": [
    "def prepare_feature(data):\n",
    "    #\n",
    "    '''\n",
    "    Preparation of features for full dataset\n",
    "    INPUT:\n",
    "    data - json file\n",
    "    \n",
    "    OUTPUT:\n",
    "    df_ml - new dataset prepared for machine learning\n",
    "    contains the following columns:\n",
    "    1. userId - initial id of the user\n",
    "    2. gender - user's gender\n",
    "    3. songs_total - total songs of events per day for the user\n",
    "    4. thumbs_up - total of thumbs up for each users\n",
    "    5. thumbs_down - total of thumbs down for each users\n",
    "    6. downgrade_total - total numbers of downgrade\n",
    "    7. error count - total number errors the user had \n",
    "    8. hour - last login hour\n",
    "    9. day - last login date\n",
    "    10. month - last login date\n",
    "    11. year - last login year\n",
    "\n",
    "    '''\n",
    "    df = GetData(data) \n",
    "    df = Clean_Data(df)\n",
    "    \n",
    "    df_churn = Define_Churn(df)\n",
    "    df = df.withColumn('is_male', when(df.gender == 'M', 1).otherwise(0))\n",
    "\n",
    "    # Convert subscription level to binary column\n",
    "    df = df.withColumn('is_paid', when(df.level == 'paid', 1).otherwise(0))\n",
    "    \n",
    "    \n",
    "    to_time_string = udf(lambda x: datetime.datetime.fromtimestamp(x / 1000.0).strftime(\"%Y-%m-%d %H:%M:%S\"))\n",
    "    df = df.withColumn('date',to_timestamp(to_time_string(df['ts'])))\n",
    "\n",
    "    df = df.withColumn(\"hour\", hour(\"date\"))\n",
    "    df = df.withColumn(\"day\", dayofmonth(\"date\"))\n",
    "    df = df.withColumn(\"month\", month(\"date\"))\n",
    "    df = df.withColumn(\"year\", year(\"date\"))\n",
    "    \n",
    "    \n",
    "    songs_total = df.where(col('song')!='null').groupby(\"userId\").agg(count(col('song')).alias('songs_total'))\n",
    "    \n",
    "    thumbsup_total = df.where((col('page')=='Thumbs Up') &(col('userId')!='null')).groupby(\"userId\").agg(count(col('page')).alias('thumbsup_Total'))\n",
    "    \n",
    "    thumbsdown_total = df.where((col(\"page\")=='Thumbs Down')&(col('userId')!='null')).groupby(\"userId\").agg(count(col('page')).alias('thumbsdown_total'))\n",
    "    \n",
    "    downgrade_total = df.where((col(\"page\")=='Downgrade')).groupby(\"userId\").agg(count(col('page')).alias('downgradeTotal'))\n",
    "    \n",
    "    error_count = df.where((col(\"page\")=='Error')&(col('userId')!='null')).groupby(\"userId\").agg(count(col('page')).alias('error_count'))\n",
    "    \n",
    "    #create temp table for calculation last time login\n",
    "    df.createOrReplaceTempView(\"temp_df\")\n",
    "    df_lastts = spark.sql('''\n",
    "          SELECT userId, max(ts) AS last_ts\n",
    "          FROM temp_df \n",
    "          group by userId\n",
    "          '''\n",
    "          )\n",
    "    \n",
    "    #get the latest data for each users\n",
    "    df = df.join(df_lastts, df.userId == df_lastts.userId)\n",
    "    df = df.filter(df.last_ts == df.ts)\n",
    "    \n",
    "    #selected feature list for machine learning\n",
    "    featured_list = ['temp_df.userId', 'is_male', 'is_paid', 'hour', 'day', 'month', 'year']\n",
    "\n",
    "    df_featured = df.select(featured_list)\n",
    "    \n",
    "    df_featured = df_featured.withColumnRenamed(\"temp_df.userId\", \"userId\")\n",
    "    \n",
    "    df_featured = df_featured.join(songs_total, \"userId\").\\\n",
    "    join(thumbsup_total, \"userId\").join(thumbsdown_total, \"userId\").\\\n",
    "    join(downgrade_total, \"userId\").join(error_count, \"userId\").join(df_churn, \"userId\")\n",
    "    \n",
    "    return df_featured"
   ]
  },
  {
   "cell_type": "code",
   "execution_count": 7,
   "metadata": {},
   "outputs": [],
   "source": [
    "df_featured = prepare_feature(\"mini_sparkify_event_data.json\")"
   ]
  },
  {
   "cell_type": "code",
   "execution_count": 8,
   "metadata": {},
   "outputs": [
    {
     "name": "stdout",
     "output_type": "stream",
     "text": [
      "+------+-------+-------+----+---+-----+----+-----------+--------------+----------------+--------------+-----------+-----+\n",
      "|userId|is_male|is_paid|hour|day|month|year|songs_total|thumbsup_Total|thumbsdown_total|downgradeTotal|error_count|label|\n",
      "+------+-------+-------+----+---+-----+----+-----------+--------------+----------------+--------------+-----------+-----+\n",
      "|   124|      0|      1|  15| 30|   11|2018|       4079|           171|              41|            41|          6|    0|\n",
      "|    51|      1|      1|   7| 17|   10|2018|       2111|           100|              21|            23|          1|    1|\n",
      "|    15|      1|      1|   4| 25|   11|2018|       1914|            81|              14|            28|          2|    0|\n",
      "|    54|      0|      1|  19| 12|   11|2018|       2841|           163|              29|            39|          1|    1|\n",
      "|   155|      0|      1|  11| 28|   11|2018|        820|            58|               3|            12|          3|    0|\n",
      "+------+-------+-------+----+---+-----+----+-----------+--------------+----------------+--------------+-----------+-----+\n",
      "only showing top 5 rows\n",
      "\n"
     ]
    }
   ],
   "source": [
    "df_featured.show(5)"
   ]
  },
  {
   "cell_type": "markdown",
   "metadata": {},
   "source": [
    "# Modeling\n",
    "Split the full dataset into train, test, and validation sets. Test out several of the machine learning methods you learned. Evaluate the accuracy of the various models, tuning parameters as necessary. Determine your winning model based on test accuracy and report results on the validation set. Since the churned users are a fairly small subset, I suggest using F1 score as the metric to optimize."
   ]
  },
  {
   "cell_type": "markdown",
   "metadata": {},
   "source": [
    "Assemble all features into one"
   ]
  },
  {
   "cell_type": "code",
   "execution_count": 8,
   "metadata": {},
   "outputs": [],
   "source": [
    "vector_assembler = VectorAssembler(inputCols=[\"hour\",\"day\",\"month\",\"year\",\"songs_total\", \"thumbsup_Total\", \"thumbsdown_total\", \"downgradeTotal\" , \"error_count\"], outputCol=\"rawFeatures\")\n",
    "df_ml = vector_assembler.transform(df_featured)"
   ]
  },
  {
   "cell_type": "code",
   "execution_count": 31,
   "metadata": {},
   "outputs": [
    {
     "name": "stdout",
     "output_type": "stream",
     "text": [
      "+------+-----+--------------------+\n",
      "|userId|churn|         rawFeatures|\n",
      "+------+-----+--------------------+\n",
      "|   124|    0|[15.0,30.0,11.0,2...|\n",
      "|    51|    1|[7.0,17.0,10.0,20...|\n",
      "|    15|    0|[4.0,25.0,11.0,20...|\n",
      "|    54|    1|[19.0,12.0,11.0,2...|\n",
      "|   155|    0|[11.0,28.0,11.0,2...|\n",
      "+------+-----+--------------------+\n",
      "only showing top 5 rows\n",
      "\n"
     ]
    }
   ],
   "source": [
    "df_ml.select('userId', 'label', 'rawFeatures').show(5)"
   ]
  },
  {
   "cell_type": "markdown",
   "metadata": {},
   "source": [
    "Do the standart scaling for features"
   ]
  },
  {
   "cell_type": "code",
   "execution_count": 9,
   "metadata": {},
   "outputs": [],
   "source": [
    "scaler = StandardScaler(inputCol=\"rawFeatures\", outputCol=\"features\", withStd=True)\n",
    "scalerModel = scaler.fit(df_ml)\n",
    "df_ml = scalerModel.transform(df_ml)"
   ]
  },
  {
   "cell_type": "code",
   "execution_count": 33,
   "metadata": {},
   "outputs": [
    {
     "name": "stdout",
     "output_type": "stream",
     "text": [
      "+------+-----+--------------------+\n",
      "|userId|churn|            features|\n",
      "+------+-----+--------------------+\n",
      "|   124|    0|[2.15046215163503...|\n",
      "|    51|    1|[1.00354900409634...|\n",
      "|    15|    0|[0.57345657376934...|\n",
      "|    54|    1|[2.72391872540437...|\n",
      "|   155|    0|[1.57700557786569...|\n",
      "+------+-----+--------------------+\n",
      "only showing top 5 rows\n",
      "\n"
     ]
    }
   ],
   "source": [
    "df_ml.select('userId', 'label', 'features').show(5)"
   ]
  },
  {
   "cell_type": "markdown",
   "metadata": {},
   "source": [
    "Spiliting features into %80, %20 for trainning and testing"
   ]
  },
  {
   "cell_type": "code",
   "execution_count": 10,
   "metadata": {},
   "outputs": [],
   "source": [
    "train_df, test_df = df_featured.randomSplit([0.8, 0.2], seed = 42)"
   ]
  },
  {
   "cell_type": "code",
   "execution_count": 12,
   "metadata": {},
   "outputs": [],
   "source": [
    "rfc = RandomForestClassifier(labelCol=\"label\", featuresCol=\"features\", numTrees=14)\n",
    "\n",
    "# assemble pipeline\n",
    "pipeline = Pipeline(stages = [vector_assembler, scalerModel, rfc])"
   ]
  },
  {
   "cell_type": "code",
   "execution_count": 13,
   "metadata": {},
   "outputs": [],
   "source": [
    "\n",
    "model = pipeline.fit(train_df)"
   ]
  },
  {
   "cell_type": "code",
   "execution_count": 14,
   "metadata": {},
   "outputs": [],
   "source": [
    "pred_train = model.transform(train_df)\n",
    "pred_test = model.transform(test_df)"
   ]
  },
  {
   "cell_type": "code",
   "execution_count": 15,
   "metadata": {},
   "outputs": [],
   "source": [
    "def EvaluateScores(pred_test):\n",
    "    # Compute raw scores on the test set\n",
    "    predictionAndLabels = pred_test.rdd.map(lambda lp: (float(lp.prediction), float(lp.label)))\n",
    "\n",
    "    # Instantiate metrics object\n",
    "    metrics = MulticlassMetrics(predictionAndLabels)\n",
    "\n",
    "    # Overall statistics\n",
    "    recall = metrics.recall()\n",
    "    f1Score = metrics.fMeasure()\n",
    "    return recall, f1Score"
   ]
  },
  {
   "cell_type": "code",
   "execution_count": 16,
   "metadata": {},
   "outputs": [
    {
     "name": "stdout",
     "output_type": "stream",
     "text": [
      "Recall = 0.866667\n",
      "F1 score = 0.866667\n"
     ]
    }
   ],
   "source": [
    "recall, f1_score = EvaluateScores(pred_test)\n",
    "\n",
    "print(\"Recall = %g\" % (recall))\n",
    "print(\"F1 score = %g\" % (f1_score))\n"
   ]
  },
  {
   "cell_type": "markdown",
   "metadata": {},
   "source": [
    "f1_score_evaluator = MulticlassClassificationEvaluator(labelCol=\"label\", predictionCol=\"prediction\",metricName='f1')\n",
    "f1_score = f1_score_evaluator.evaluate(pred_test)\n",
    "print(\"F1 score = %g\" % (f1_score))"
   ]
  },
  {
   "cell_type": "markdown",
   "metadata": {},
   "source": [
    "evaluator = MulticlassClassificationEvaluator(\n",
    "    labelCol=\"label\", predictionCol=\"prediction\", metricName=\"accuracy\")\n",
    "accuracy = evaluator.evaluate(pred_test)\n",
    "print(\"Validation Error = %g\" % (1.0 - accuracy))"
   ]
  },
  {
   "cell_type": "markdown",
   "metadata": {},
   "source": [
    "### Refinement"
   ]
  },
  {
   "cell_type": "code",
   "execution_count": 17,
   "metadata": {},
   "outputs": [],
   "source": [
    "paramGrid = ParamGridBuilder() \\\n",
    "    .addGrid(rfc.numTrees, [10, 20, 30, 50]) \\\n",
    "    .addGrid(rfc.maxDepth, [3, 5, 8]) \\\n",
    "    .addGrid(rfc.impurity, ['entropy', 'gini'])\\\n",
    "    .build()"
   ]
  },
  {
   "cell_type": "code",
   "execution_count": 18,
   "metadata": {},
   "outputs": [],
   "source": [
    "crossval = CrossValidator(estimator=pipeline,\n",
    "                          estimatorParamMaps=paramGrid,\n",
    "                          evaluator=MulticlassClassificationEvaluator(),\n",
    "                          numFolds=3)"
   ]
  },
  {
   "cell_type": "code",
   "execution_count": 19,
   "metadata": {},
   "outputs": [],
   "source": [
    "cvModel = crossval.fit(train_df)"
   ]
  },
  {
   "cell_type": "code",
   "execution_count": 20,
   "metadata": {},
   "outputs": [
    {
     "name": "stdout",
     "output_type": "stream",
     "text": [
      "Refined Recall = 0.933333\n",
      "Refined F1 score = 0.933333\n"
     ]
    }
   ],
   "source": [
    "pred_test = cvModel.bestModel.transform(test_df)\n",
    "recall, f1_score = EvaluateScores(pred_test)\n",
    "\n",
    "print(\"Refined Recall = %g\" % (recall))\n",
    "print(\"Refined F1 score = %g\" % (f1_score))\n"
   ]
  },
  {
   "cell_type": "code",
   "execution_count": 21,
   "metadata": {},
   "outputs": [],
   "source": [
    "\n",
    "# get validation parameters\n",
    "params = [{p.name: v for p, v in m.items()} for m in cvModel.getEstimatorParamMaps()]\n",
    "\n",
    "# convert validation results to pandas dataframe\n",
    "validation_results = pd.DataFrame.from_dict([\n",
    "    {cvModel.getEvaluator().getMetricName(): metric, **ps} \n",
    "    for ps, metric in zip(params, cvModel.avgMetrics)\n",
    "])"
   ]
  },
  {
   "cell_type": "code",
   "execution_count": 22,
   "metadata": {},
   "outputs": [
    {
     "data": {
      "text/html": [
       "<div>\n",
       "<style scoped>\n",
       "    .dataframe tbody tr th:only-of-type {\n",
       "        vertical-align: middle;\n",
       "    }\n",
       "\n",
       "    .dataframe tbody tr th {\n",
       "        vertical-align: top;\n",
       "    }\n",
       "\n",
       "    .dataframe thead th {\n",
       "        text-align: right;\n",
       "    }\n",
       "</style>\n",
       "<table border=\"1\" class=\"dataframe\">\n",
       "  <thead>\n",
       "    <tr style=\"text-align: right;\">\n",
       "      <th></th>\n",
       "      <th>f1</th>\n",
       "      <th>impurity</th>\n",
       "      <th>maxDepth</th>\n",
       "      <th>numTrees</th>\n",
       "    </tr>\n",
       "  </thead>\n",
       "  <tbody>\n",
       "    <tr>\n",
       "      <th>0</th>\n",
       "      <td>0.903841</td>\n",
       "      <td>entropy</td>\n",
       "      <td>3</td>\n",
       "      <td>10</td>\n",
       "    </tr>\n",
       "    <tr>\n",
       "      <th>1</th>\n",
       "      <td>0.917725</td>\n",
       "      <td>gini</td>\n",
       "      <td>3</td>\n",
       "      <td>10</td>\n",
       "    </tr>\n",
       "    <tr>\n",
       "      <th>2</th>\n",
       "      <td>0.887520</td>\n",
       "      <td>entropy</td>\n",
       "      <td>5</td>\n",
       "      <td>10</td>\n",
       "    </tr>\n",
       "    <tr>\n",
       "      <th>3</th>\n",
       "      <td>0.909401</td>\n",
       "      <td>gini</td>\n",
       "      <td>5</td>\n",
       "      <td>10</td>\n",
       "    </tr>\n",
       "    <tr>\n",
       "      <th>4</th>\n",
       "      <td>0.887520</td>\n",
       "      <td>entropy</td>\n",
       "      <td>8</td>\n",
       "      <td>10</td>\n",
       "    </tr>\n",
       "    <tr>\n",
       "      <th>5</th>\n",
       "      <td>0.909401</td>\n",
       "      <td>gini</td>\n",
       "      <td>8</td>\n",
       "      <td>10</td>\n",
       "    </tr>\n",
       "    <tr>\n",
       "      <th>6</th>\n",
       "      <td>0.884942</td>\n",
       "      <td>entropy</td>\n",
       "      <td>3</td>\n",
       "      <td>20</td>\n",
       "    </tr>\n",
       "    <tr>\n",
       "      <th>7</th>\n",
       "      <td>0.905175</td>\n",
       "      <td>gini</td>\n",
       "      <td>3</td>\n",
       "      <td>20</td>\n",
       "    </tr>\n",
       "    <tr>\n",
       "      <th>8</th>\n",
       "      <td>0.901686</td>\n",
       "      <td>entropy</td>\n",
       "      <td>5</td>\n",
       "      <td>20</td>\n",
       "    </tr>\n",
       "    <tr>\n",
       "      <th>9</th>\n",
       "      <td>0.938385</td>\n",
       "      <td>gini</td>\n",
       "      <td>5</td>\n",
       "      <td>20</td>\n",
       "    </tr>\n",
       "    <tr>\n",
       "      <th>10</th>\n",
       "      <td>0.901686</td>\n",
       "      <td>entropy</td>\n",
       "      <td>8</td>\n",
       "      <td>20</td>\n",
       "    </tr>\n",
       "    <tr>\n",
       "      <th>11</th>\n",
       "      <td>0.951284</td>\n",
       "      <td>gini</td>\n",
       "      <td>8</td>\n",
       "      <td>20</td>\n",
       "    </tr>\n",
       "    <tr>\n",
       "      <th>12</th>\n",
       "      <td>0.852415</td>\n",
       "      <td>entropy</td>\n",
       "      <td>3</td>\n",
       "      <td>30</td>\n",
       "    </tr>\n",
       "    <tr>\n",
       "      <th>13</th>\n",
       "      <td>0.905175</td>\n",
       "      <td>gini</td>\n",
       "      <td>3</td>\n",
       "      <td>30</td>\n",
       "    </tr>\n",
       "    <tr>\n",
       "      <th>14</th>\n",
       "      <td>0.840861</td>\n",
       "      <td>entropy</td>\n",
       "      <td>5</td>\n",
       "      <td>30</td>\n",
       "    </tr>\n",
       "    <tr>\n",
       "      <th>15</th>\n",
       "      <td>0.920628</td>\n",
       "      <td>gini</td>\n",
       "      <td>5</td>\n",
       "      <td>30</td>\n",
       "    </tr>\n",
       "    <tr>\n",
       "      <th>16</th>\n",
       "      <td>0.840861</td>\n",
       "      <td>entropy</td>\n",
       "      <td>8</td>\n",
       "      <td>30</td>\n",
       "    </tr>\n",
       "    <tr>\n",
       "      <th>17</th>\n",
       "      <td>0.920628</td>\n",
       "      <td>gini</td>\n",
       "      <td>8</td>\n",
       "      <td>30</td>\n",
       "    </tr>\n",
       "    <tr>\n",
       "      <th>18</th>\n",
       "      <td>0.864134</td>\n",
       "      <td>entropy</td>\n",
       "      <td>3</td>\n",
       "      <td>50</td>\n",
       "    </tr>\n",
       "    <tr>\n",
       "      <th>19</th>\n",
       "      <td>0.929520</td>\n",
       "      <td>gini</td>\n",
       "      <td>3</td>\n",
       "      <td>50</td>\n",
       "    </tr>\n",
       "    <tr>\n",
       "      <th>20</th>\n",
       "      <td>0.866069</td>\n",
       "      <td>entropy</td>\n",
       "      <td>5</td>\n",
       "      <td>50</td>\n",
       "    </tr>\n",
       "    <tr>\n",
       "      <th>21</th>\n",
       "      <td>0.912776</td>\n",
       "      <td>gini</td>\n",
       "      <td>5</td>\n",
       "      <td>50</td>\n",
       "    </tr>\n",
       "    <tr>\n",
       "      <th>22</th>\n",
       "      <td>0.866069</td>\n",
       "      <td>entropy</td>\n",
       "      <td>8</td>\n",
       "      <td>50</td>\n",
       "    </tr>\n",
       "    <tr>\n",
       "      <th>23</th>\n",
       "      <td>0.912776</td>\n",
       "      <td>gini</td>\n",
       "      <td>8</td>\n",
       "      <td>50</td>\n",
       "    </tr>\n",
       "  </tbody>\n",
       "</table>\n",
       "</div>"
      ],
      "text/plain": [
       "          f1 impurity  maxDepth  numTrees\n",
       "0   0.903841  entropy         3        10\n",
       "1   0.917725     gini         3        10\n",
       "2   0.887520  entropy         5        10\n",
       "3   0.909401     gini         5        10\n",
       "4   0.887520  entropy         8        10\n",
       "5   0.909401     gini         8        10\n",
       "6   0.884942  entropy         3        20\n",
       "7   0.905175     gini         3        20\n",
       "8   0.901686  entropy         5        20\n",
       "9   0.938385     gini         5        20\n",
       "10  0.901686  entropy         8        20\n",
       "11  0.951284     gini         8        20\n",
       "12  0.852415  entropy         3        30\n",
       "13  0.905175     gini         3        30\n",
       "14  0.840861  entropy         5        30\n",
       "15  0.920628     gini         5        30\n",
       "16  0.840861  entropy         8        30\n",
       "17  0.920628     gini         8        30\n",
       "18  0.864134  entropy         3        50\n",
       "19  0.929520     gini         3        50\n",
       "20  0.866069  entropy         5        50\n",
       "21  0.912776     gini         5        50\n",
       "22  0.866069  entropy         8        50\n",
       "23  0.912776     gini         8        50"
      ]
     },
     "execution_count": 22,
     "metadata": {},
     "output_type": "execute_result"
    }
   ],
   "source": [
    "validation_results"
   ]
  },
  {
   "cell_type": "markdown",
   "metadata": {},
   "source": [
    "# Conclusion\n",
    "\n",
    " Initial F1 Score and recall is %86.6. After refinement, the scores  Recall and F1 score improved to %%93.3 "
   ]
  },
  {
   "cell_type": "markdown",
   "metadata": {},
   "source": [
    "# Final Steps\n",
    "Clean up your code, adding comments and renaming variables to make the code easier to read and maintain. Refer to the Spark Project Overview page and Data Scientist Capstone Project Rubric to make sure you are including all components of the capstone project and meet all expectations. Remember, this includes thorough documentation in a README file in a Github repository, as well as a web app or blog post."
   ]
  },
  {
   "cell_type": "code",
   "execution_count": null,
   "metadata": {},
   "outputs": [],
   "source": [
    "!!jupyter nbconvert *.ipynb"
   ]
  },
  {
   "cell_type": "code",
   "execution_count": null,
   "metadata": {},
   "outputs": [],
   "source": []
  }
 ],
 "metadata": {
  "kernelspec": {
   "display_name": "Python 3",
   "language": "python",
   "name": "python3"
  },
  "language_info": {
   "codemirror_mode": {
    "name": "ipython",
    "version": 3
   },
   "file_extension": ".py",
   "mimetype": "text/x-python",
   "name": "python",
   "nbconvert_exporter": "python",
   "pygments_lexer": "ipython3",
   "version": "3.6.3"
  }
 },
 "nbformat": 4,
 "nbformat_minor": 2
}
